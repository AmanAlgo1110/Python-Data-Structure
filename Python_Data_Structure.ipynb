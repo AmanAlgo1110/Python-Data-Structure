{
  "nbformat": 4,
  "nbformat_minor": 0,
  "metadata": {
    "colab": {
      "provenance": []
    },
    "kernelspec": {
      "name": "python3",
      "display_name": "Python 3"
    },
    "language_info": {
      "name": "python"
    }
  },
  "cells": [
    {
      "cell_type": "code",
      "execution_count": null,
      "metadata": {
        "colab": {
          "base_uri": "https://localhost:8080/"
        },
        "id": "8VTNeONClt3x",
        "outputId": "c7cba5bc-0faa-4db0-e4f5-489ebbf3170f"
      },
      "outputs": [
        {
          "output_type": "stream",
          "name": "stdout",
          "text": [
            "Sk Aman\n"
          ]
        }
      ],
      "source": [
        "# 1.Write a code to create a string with your name and print it.\n",
        "name=\"Sk Aman\";\n",
        "print(name);"
      ]
    },
    {
      "cell_type": "code",
      "source": [
        " # 2.Write a code to find the length of the string \"Hello World\".\n",
        " demo =\"Hello world\";\n",
        " print(len(demo));"
      ],
      "metadata": {
        "colab": {
          "base_uri": "https://localhost:8080/"
        },
        "id": "e76_dV10oYVR",
        "outputId": "e24aba75-eff1-4e41-c22f-d6faa7457538"
      },
      "execution_count": null,
      "outputs": [
        {
          "output_type": "stream",
          "name": "stdout",
          "text": [
            "11\n"
          ]
        }
      ]
    },
    {
      "cell_type": "code",
      "source": [
        "# 3. Write a code to slice the first 3 characters from the string \"Python Programming\".\n",
        "demo_str=\"Python Programming\";\n",
        "print(demo_str[:3])"
      ],
      "metadata": {
        "colab": {
          "base_uri": "https://localhost:8080/"
        },
        "id": "GReNmY2SopJ6",
        "outputId": "87b02672-d433-4cd9-ecb5-2e3fe7e58ef3"
      },
      "execution_count": null,
      "outputs": [
        {
          "output_type": "stream",
          "name": "stdout",
          "text": [
            "Pyt\n"
          ]
        }
      ]
    },
    {
      "cell_type": "code",
      "source": [
        "# 4. Write a code to convert the string \"hello\" to uppercase.\n",
        "demo_str_1=\"hello\";\n",
        "print(demo_str_1.upper())"
      ],
      "metadata": {
        "colab": {
          "base_uri": "https://localhost:8080/"
        },
        "id": "2q9hHGAjpQsj",
        "outputId": "7d285684-8746-4af5-d90e-68063c9069cf"
      },
      "execution_count": null,
      "outputs": [
        {
          "output_type": "stream",
          "name": "stdout",
          "text": [
            "HELLO\n"
          ]
        }
      ]
    },
    {
      "cell_type": "code",
      "source": [
        "# 5.rite a code to replace the word \"apple\" with \"orange\" in the string \"I like apple.\n",
        "demo_str_2=\"I like apple\";\n",
        "print(demo_str_2.replace(\"apple\",\"orange\"));\n"
      ],
      "metadata": {
        "colab": {
          "base_uri": "https://localhost:8080/"
        },
        "id": "_Mc0Ks9Dpd7B",
        "outputId": "d14259a8-a9f7-478f-9b95-271e9497d574"
      },
      "execution_count": null,
      "outputs": [
        {
          "output_type": "stream",
          "name": "stdout",
          "text": [
            "I like Orange\n"
          ]
        }
      ]
    },
    {
      "cell_type": "code",
      "source": [
        "# 6. Write a code to create a list with numbers 1 to 5 and print it.\n",
        "demo_list=[];\n",
        "for i in range(1,6):\n",
        "  demo_list.append(i);\n",
        "print((demo_list))\n"
      ],
      "metadata": {
        "colab": {
          "base_uri": "https://localhost:8080/"
        },
        "id": "1mwl4B0Fp8Ly",
        "outputId": "600695ad-8591-441d-94e9-97a03f1447a5"
      },
      "execution_count": null,
      "outputs": [
        {
          "output_type": "stream",
          "name": "stdout",
          "text": [
            "[1, 2, 3, 4, 5]\n"
          ]
        }
      ]
    },
    {
      "cell_type": "code",
      "source": [
        "# 7.Write a code to append the number 10 to the list [1, 2, 3, 4].\n",
        "demo_list_1=[1,2,3,4];\n",
        "demo_list_1.append(10);\n",
        "print(demo_list_1)"
      ],
      "metadata": {
        "colab": {
          "base_uri": "https://localhost:8080/"
        },
        "id": "U76sDUYcq19B",
        "outputId": "8f71c583-44d3-47b8-ed01-2fdba3163284"
      },
      "execution_count": null,
      "outputs": [
        {
          "output_type": "stream",
          "name": "stdout",
          "text": [
            "[1, 2, 3, 4, 10]\n"
          ]
        }
      ]
    },
    {
      "cell_type": "code",
      "source": [
        "# 8.Write a code to remove the number 3 from the list [1, 2, 3, 4, 5].\n",
        "demo_list_2=[1,2,3,4,5];\n",
        "demo_list_2.remove(3);\n",
        "print(demo_list_2)"
      ],
      "metadata": {
        "colab": {
          "base_uri": "https://localhost:8080/"
        },
        "id": "hLhVjCnLrUaR",
        "outputId": "07d3a08c-c7ac-42b6-a62e-80474d44ef6f"
      },
      "execution_count": null,
      "outputs": [
        {
          "output_type": "stream",
          "name": "stdout",
          "text": [
            "[1, 2, 4, 5]\n"
          ]
        }
      ]
    },
    {
      "cell_type": "code",
      "source": [
        "# 9. Write a code to access the second element in the list ['a', 'b', 'c', 'd'].\n",
        "demo_list_3=['a', 'b', 'c', 'd'];\n",
        "print(demo_list_3[1])"
      ],
      "metadata": {
        "colab": {
          "base_uri": "https://localhost:8080/"
        },
        "id": "nFaCnSOfrmVh",
        "outputId": "09605f19-19c0-44a5-f1da-37fbb984c98a"
      },
      "execution_count": null,
      "outputs": [
        {
          "output_type": "stream",
          "name": "stdout",
          "text": [
            "b\n"
          ]
        }
      ]
    },
    {
      "cell_type": "code",
      "source": [
        "# 10. Write a code to reverse the list [10, 20, 30, 40, 50].\n",
        "demo_list_4=[10, 20, 30, 40, 50];\n",
        "demo_list_4.reverse()\n",
        "print(demo_list_4)\n"
      ],
      "metadata": {
        "colab": {
          "base_uri": "https://localhost:8080/"
        },
        "id": "6j9eE_tErzHB",
        "outputId": "bb34a756-2320-4215-ac5e-58534b92af19"
      },
      "execution_count": null,
      "outputs": [
        {
          "output_type": "stream",
          "name": "stdout",
          "text": [
            "[50, 40, 30, 20, 10]\n"
          ]
        }
      ]
    },
    {
      "cell_type": "code",
      "source": [
        "# 11.Write a code to create a tuple with the elements 100, 200, 300 and print it.\n",
        "demo_tuple_1=(100,200,300);\n",
        "print(demo_list_5)"
      ],
      "metadata": {
        "colab": {
          "base_uri": "https://localhost:8080/"
        },
        "id": "3thZhR4ct_NG",
        "outputId": "2e19e39b-eca5-43b8-996f-3004a9fb10c6"
      },
      "execution_count": null,
      "outputs": [
        {
          "output_type": "stream",
          "name": "stdout",
          "text": [
            "(100, 200, 300)\n"
          ]
        }
      ]
    },
    {
      "cell_type": "code",
      "source": [
        "# 12. Write a code to access the second-to-last element of the tuple ('red', 'green', 'blue', 'yellow').\n",
        "demo_tuple_2=('red', 'green', 'blue', 'yellow');\n",
        "print(demo_list_6[1:4])"
      ],
      "metadata": {
        "colab": {
          "base_uri": "https://localhost:8080/"
        },
        "id": "UMqmZeESuhL3",
        "outputId": "352ed43f-c3f5-41ad-bf78-2eb5f46bfc4f"
      },
      "execution_count": null,
      "outputs": [
        {
          "output_type": "stream",
          "name": "stdout",
          "text": [
            "('green', 'blue', 'yellow')\n"
          ]
        }
      ]
    },
    {
      "cell_type": "code",
      "source": [
        "# 13. Write a code to find the minimum number in the tuple (10, 20, 5, 15).\n",
        "demo_tuple_3=(10, 20, 5, 15);\n",
        "print(min(demo_list_6))"
      ],
      "metadata": {
        "colab": {
          "base_uri": "https://localhost:8080/"
        },
        "id": "UPxHbZF0u4wX",
        "outputId": "bbaf0269-438a-4c5f-e138-9861ad764a07"
      },
      "execution_count": null,
      "outputs": [
        {
          "output_type": "stream",
          "name": "stdout",
          "text": [
            "5\n"
          ]
        }
      ]
    },
    {
      "cell_type": "code",
      "source": [
        "# 14.Write a code to find the index of the element \"cat\" in the tuple ('dog', 'cat', 'rabbit').\n",
        "demo_tuple_4=('dog', 'cat', 'rabbit');\n",
        "print(demo_tuple_4.index(\"cat\"))\n"
      ],
      "metadata": {
        "colab": {
          "base_uri": "https://localhost:8080/"
        },
        "id": "tzsh2Z24vSD_",
        "outputId": "5a43124e-2e19-4ebd-fed7-fbfb49de94af"
      },
      "execution_count": null,
      "outputs": [
        {
          "output_type": "stream",
          "name": "stdout",
          "text": [
            "1\n"
          ]
        }
      ]
    },
    {
      "cell_type": "code",
      "source": [
        " # 15.Write a code to create a tuple containing three different fruits and check if \"kiwi\" is in it.\n",
        " demo_tuple_5=(\"Mango\",\"Banana\",\"kiwi\");\n",
        " print(\"kiwi\" in demo_tuple_5);"
      ],
      "metadata": {
        "colab": {
          "base_uri": "https://localhost:8080/"
        },
        "id": "AoZOC74Uv0Eo",
        "outputId": "9833214f-19f9-4cb5-fa74-b0b89575f78b"
      },
      "execution_count": null,
      "outputs": [
        {
          "output_type": "stream",
          "name": "stdout",
          "text": [
            "True\n"
          ]
        }
      ]
    },
    {
      "cell_type": "code",
      "source": [
        "# 16. Write a code to create a set with the elements 'a', 'b', 'c' and print it.\n",
        "demo_set={\"a\",\"b\",\"c\"};\n",
        "print(demo_set);"
      ],
      "metadata": {
        "colab": {
          "base_uri": "https://localhost:8080/"
        },
        "id": "uI-tUcQfxM5F",
        "outputId": "2e183ad8-5eed-4874-d6a2-1c5932b4fc4d"
      },
      "execution_count": 1,
      "outputs": [
        {
          "output_type": "stream",
          "name": "stdout",
          "text": [
            "{'c', 'a', 'b'}\n"
          ]
        }
      ]
    },
    {
      "cell_type": "code",
      "source": [
        "# 17.Write a code to clear all elements from the set {1, 2, 3, 4, 5}.\n",
        "demo_set_1={1, 2, 3, 4, 5};\n",
        "demo_set_1.clear();\n",
        "print(demo_set_1)"
      ],
      "metadata": {
        "colab": {
          "base_uri": "https://localhost:8080/"
        },
        "id": "b91qQM5nxvxR",
        "outputId": "dc07c8bb-72cf-4e03-c33c-d0844b03b439"
      },
      "execution_count": 3,
      "outputs": [
        {
          "output_type": "stream",
          "name": "stdout",
          "text": [
            "{1, 2, 3, 4, 5}\n",
            "set()\n"
          ]
        }
      ]
    },
    {
      "cell_type": "code",
      "source": [
        "# 18. Write a code to remove the element 4 from the set {1, 2, 3, 4}.\n",
        "demo_set_2={1, 2, 3, 4};\n",
        "demo_set_2.remove(4);\n",
        "print(demo_set_2)"
      ],
      "metadata": {
        "colab": {
          "base_uri": "https://localhost:8080/"
        },
        "id": "GG4nhso2yJ65",
        "outputId": "b4194d5c-54cf-4a2f-b46b-c51e235c1523"
      },
      "execution_count": 12,
      "outputs": [
        {
          "output_type": "stream",
          "name": "stdout",
          "text": [
            "{1, 2, 3}\n"
          ]
        }
      ]
    },
    {
      "cell_type": "code",
      "source": [
        "# 19.Write a code to find the union of two sets {1, 2, 3} and {3, 4, 5}.\n",
        "demo_set_3={1, 2, 3};\n",
        "demo_set_4={3, 4, 5};\n",
        "print(demo_set_3 | demo_set_4);"
      ],
      "metadata": {
        "colab": {
          "base_uri": "https://localhost:8080/"
        },
        "id": "WLQBQFTsynMb",
        "outputId": "5a14dac4-8519-4383-8098-ecd4658f8ee8"
      },
      "execution_count": 14,
      "outputs": [
        {
          "output_type": "stream",
          "name": "stdout",
          "text": [
            "{1, 2, 3, 4, 5}\n"
          ]
        }
      ]
    },
    {
      "cell_type": "code",
      "source": [
        "# 20.Write a code to find the intersection of two sets {1, 2, 3} and {2, 3, 4}.\n",
        "demo_set_5={1, 2, 3};\n",
        "demo_set_6={2, 3, 4};\n",
        "print(demo_set_5 & demo_set_6)"
      ],
      "metadata": {
        "colab": {
          "base_uri": "https://localhost:8080/"
        },
        "id": "Ovg1xL-Rzv9R",
        "outputId": "55d3adb9-a0ec-4ca5-ec2e-2b2b4fd36d6a"
      },
      "execution_count": 15,
      "outputs": [
        {
          "output_type": "stream",
          "name": "stdout",
          "text": [
            "{2, 3}\n"
          ]
        }
      ]
    },
    {
      "cell_type": "code",
      "source": [
        "# 21. Write a code to create a dictionary with the keys \"name\", \"age\", and \"city\", and print it.\n",
        "demo_dic_1={\n",
        "    \"name\":\"Sk Aman\",\n",
        "    \"age\":23,\n",
        "    \"city\":\"kolkata\"\n",
        "}\n",
        "print(demo_dic_1)"
      ],
      "metadata": {
        "colab": {
          "base_uri": "https://localhost:8080/"
        },
        "id": "rQNZeGJ_0bQh",
        "outputId": "73df36f7-74eb-412a-eeab-c1d994ac262d"
      },
      "execution_count": 17,
      "outputs": [
        {
          "output_type": "stream",
          "name": "stdout",
          "text": [
            "{'name': 'Sk Aman', 'age': 23, 'city': 'kolkata'}\n"
          ]
        }
      ]
    },
    {
      "cell_type": "code",
      "source": [
        "# 22. Write a code to add a new key-value pair \"country\": \"USA\" to the dictionary {'name': 'John', 'age': 25}.\n",
        "demo_dic_1[\"Country\"]=\"USA\";\n",
        "print(demo_dic_1)"
      ],
      "metadata": {
        "colab": {
          "base_uri": "https://localhost:8080/"
        },
        "id": "Xng_CCGB06IR",
        "outputId": "44a542ca-1925-4c22-f892-184bc6774dfa"
      },
      "execution_count": 18,
      "outputs": [
        {
          "output_type": "stream",
          "name": "stdout",
          "text": [
            "{'name': 'Sk Aman', 'age': 23, 'city': 'kolkata', 'Country': 'USA'}\n"
          ]
        }
      ]
    },
    {
      "cell_type": "code",
      "source": [
        "# 23. Write a code to access the value associated with the key \"name\" in the dictionary {'name': 'Alice', 'age': 30}.\n",
        "demo_dic_2={\n",
        "    \"name\":\"Alice\",\n",
        "    \"Age\":30\n",
        "}\n",
        "print(demo_dic_2[\"name\"])"
      ],
      "metadata": {
        "colab": {
          "base_uri": "https://localhost:8080/"
        },
        "id": "2KzIILbh1sQJ",
        "outputId": "305f8de4-1a85-48a5-fcae-29a69e77e3d4"
      },
      "execution_count": 19,
      "outputs": [
        {
          "output_type": "stream",
          "name": "stdout",
          "text": [
            "Alice\n"
          ]
        }
      ]
    },
    {
      "cell_type": "code",
      "source": [
        "# 24. Write a code to remove the key \"age\" from the dictionary {'name': 'Bob', 'age': 22, 'city': 'New York'}.\n",
        "demo_dic_3={\n",
        "    'name': 'Bob',\n",
        "    'age': 22,\n",
        "    'city': 'New York'\n",
        "}\n",
        "demo_dic_3.pop(\"name\");\n",
        "print(demo_dic_3)"
      ],
      "metadata": {
        "colab": {
          "base_uri": "https://localhost:8080/"
        },
        "id": "Kf43W_IZ2F85",
        "outputId": "3767d1f7-b6b7-46f8-b288-82d46f6224f3"
      },
      "execution_count": 21,
      "outputs": [
        {
          "output_type": "stream",
          "name": "stdout",
          "text": [
            "{'age': 22, 'city': 'New York'}\n"
          ]
        }
      ]
    },
    {
      "cell_type": "code",
      "source": [
        "# 25. Write a code to check if the key \"city\" exists in the dictionary {'name': 'Alice', 'city': 'Paris'}.\n",
        "demo_dic_4={\n",
        "    'name': 'Alice',\n",
        "    'city': 'Paris'\n",
        "}\n",
        "print(\"city\" in demo_dic_4);"
      ],
      "metadata": {
        "colab": {
          "base_uri": "https://localhost:8080/"
        },
        "id": "-iARmCxH2q2J",
        "outputId": "527ca29d-d886-404d-e33f-ba6fc7e9983d"
      },
      "execution_count": 22,
      "outputs": [
        {
          "output_type": "stream",
          "name": "stdout",
          "text": [
            "True\n"
          ]
        }
      ]
    },
    {
      "cell_type": "code",
      "source": [
        "# 26. Write a code to create a list, a tuple, and a dictionary, and print them all.\n",
        "demo_list_5=[1,\"Aman\",True,None];\n",
        "demo_tuple_6=(1,\"Aman\",True,None);\n",
        "demo_dic_5={\n",
        "    \"name\":\"Aman\",\n",
        "    \"Add\":\"Patpur,Bankura\",\n",
        "    \"phone\":8116484595,\n",
        "    \"Cx\":3+4j\n",
        "}\n",
        "print(demo_list_5);\n",
        "print(demo_tuple_6);\n",
        "print(demo_dic_5);"
      ],
      "metadata": {
        "colab": {
          "base_uri": "https://localhost:8080/"
        },
        "id": "uxzCCft_3Iyx",
        "outputId": "81b6e6a9-5716-44d8-888c-f2ef464ffaf9"
      },
      "execution_count": 24,
      "outputs": [
        {
          "output_type": "stream",
          "name": "stdout",
          "text": [
            "[1, 'Aman', True, None]\n",
            "(1, 'Aman', True, None)\n",
            "{'name': 'Aman', 'Add': 'Patpur,Bankura', 'phone': 8116484595, 'Cx': (3+4j)}\n",
            "<class 'complex'>\n"
          ]
        }
      ]
    },
    {
      "cell_type": "code",
      "source": [
        "# 27.Write a code to create a list of 5 random numbers between 1 and 100, sort it in ascending order, and print the  result.(replaced)\n",
        "import random\n",
        "demo_list_99=[];\n",
        "for i in range(5):\n",
        "  demo_list_99.append(random.randint(1,100))\n",
        "print(demo_list_99)"
      ],
      "metadata": {
        "colab": {
          "base_uri": "https://localhost:8080/"
        },
        "id": "Jf3eSVZe4H3p",
        "outputId": "00f4e3c3-655c-4f2a-a05e-39ab8bd609ba"
      },
      "execution_count": 37,
      "outputs": [
        {
          "output_type": "stream",
          "name": "stdout",
          "text": [
            "[87, 8, 72, 50, 61]\n"
          ]
        }
      ]
    },
    {
      "cell_type": "code",
      "source": [
        "# 28.Write a code to create a list with strings and print the element at the third index.\n",
        "demo_list_7=[\"aman\",\"rahul\",\"anupam\",\"mango\",\"yahoo\"];\n",
        "print(demo_list_7[3])"
      ],
      "metadata": {
        "colab": {
          "base_uri": "https://localhost:8080/"
        },
        "id": "5vTl0rXl4314",
        "outputId": "30fd72c1-2043-4cd8-bf8a-59dc156dab7e"
      },
      "execution_count": 25,
      "outputs": [
        {
          "output_type": "stream",
          "name": "stdout",
          "text": [
            "mango\n"
          ]
        }
      ]
    },
    {
      "cell_type": "code",
      "source": [
        "# 29.Write a code to combine two dictionaries into one and print the result.\n",
        "demo_dic_1.update(demo_dic_2);\n",
        "print(demo_dic_1)"
      ],
      "metadata": {
        "colab": {
          "base_uri": "https://localhost:8080/"
        },
        "id": "_v9elpPE5c3J",
        "outputId": "a2dca525-f4f3-42a9-afac-28621763ce42"
      },
      "execution_count": 29,
      "outputs": [
        {
          "output_type": "stream",
          "name": "stdout",
          "text": [
            "{'name': 'Alice', 'age': 23, 'city': 'kolkata', 'Country': 'USA', 'Age': 30}\n"
          ]
        }
      ]
    },
    {
      "cell_type": "code",
      "source": [
        "# 30.Write a code to convert a list of strings into a set.\n",
        "demo_list_7=[\"aman\",\"rahul\",\"anupam\",\"mango\",\"yahoo\"];\n",
        "new_set=set(demo_list_7);\n",
        "print(new_set)"
      ],
      "metadata": {
        "colab": {
          "base_uri": "https://localhost:8080/"
        },
        "id": "wy2DzDgr6eQR",
        "outputId": "69fd5413-4d2a-46d2-ee59-2b632da6f321"
      },
      "execution_count": 31,
      "outputs": [
        {
          "output_type": "stream",
          "name": "stdout",
          "text": [
            "{'mango', 'aman', 'anupam', 'rahul', 'yahoo'}\n"
          ]
        }
      ]
    },
    {
      "cell_type": "markdown",
      "source": [
        "1.What are data structures, and why are they important?\n",
        "--> Data structures are ways to store and organize data in a computer so we can use it easily and efficiently.\n",
        "\n",
        "2. Explain the difference between mutable and immutable data types with examples.\n",
        "-->In Python, data types are classified as mutable or immutable based on whether their values can be changed after they are created. Mutable data types can be modified — we can add, remove, or change elements without creating a new object. Examples of mutable types include lists, dictionaries, and sets. For instance, in a list like [1, 2, 3], we can change the first element to 10 by writing my_list[0] = 10. On the other hand, immutable data types cannot be changed once they are created. Any operation that tries to modify them results in the creation of a new object. Examples of immutable types are strings, tuples, and integers. For example, if we have a string name = \"Hello\", we cannot change just one character like name[0] = \"J\"—this will cause an error. This distinction is important because it affects how data behaves in memory and in functions.\n",
        "\n",
        "3.What are the main differences between lists and tuples in Python?\n",
        "-->In Python, lists and tuples are both used to store collections of items, but they have some important differences. The main difference is that lists are mutable, which means their elements can be changed, added, or removed after the list is created. In contrast, tuples are immutable, so once a tuple is created, its elements cannot be changed. Lists are defined using square brackets like [1, 2, 3], while tuples are defined using parentheses like (1, 2, 3). Because tuples are immutable, they are generally faster and can be used as keys in dictionaries, unlike lists. Lists are more flexible and are commonly used when the data may need to change during program execution.\n",
        "\n",
        "4. Describe how dictionaries store data.\n",
        "-->In Python, a dictionary stores data in the form of key-value pairs. Each item in a dictionary has a key and a value, where the key acts like a label or name, and the value is the actual data. For example, in {\"name\": \"Alice\", \"age\": 25}, \"name\" and \"age\" are keys, and \"Alice\" and 25 are their corresponding values. Dictionaries use a special structure called a hash table to store data, which allows them to quickly find values using their keys. Keys in a dictionary must be unique and immutable (like strings, numbers, or tuples), while values can be of any data type. This makes dictionaries very useful for storing and looking up data efficiently.\n",
        "\n",
        "5.Why might you use a set instead of a list in Python.\n",
        "-->  a set instead of a list in Python when one want to store only unique items and don’t care about the order of elements. Sets automatically remove duplicates, so if one add the same value more than once, it will only appear once in the set. This makes sets very useful for tasks like finding unique values from a list or checking if an item exists in a collection, as membership tests (in) are generally faster in sets than in lists. However, sets do not keep the order of elements, and you cannot access items by index like you can with lists. So, use a set when uniqueness and fast lookup are more important than maintaining order.\n",
        "\n",
        "6.What is a string in Python, and how is it different from a list?\n",
        "-->A string in Python is a sequence of characters enclosed in quotes, like \"hello\". It is immutable, meaning you can't change individual characters once it's created. A list, on the other hand, is a sequence of elements (which can be of any data type) and is mutable, so you can change, add, or remove elements in it.\n",
        "\n",
        "7.How do tuples ensure data integrity in Python?\n",
        "-->Tuples are immutable, meaning once created, their content cannot be changed. This protects the data from accidental modifications, ensuring its integrity, especially when passed between functions or used as dictionary keys.\n",
        "\n",
        "8.What is a hash table, and how does it relate to dictionaries in Python?\n",
        "-->A hash table is a data structure that maps keys to values using a hashing function to assign a unique address (index) for each key. Python dictionaries use hash tables internally, allowing for fast access to values using keys.\n",
        "\n",
        "9. Can lists contain different data types in Python?\n",
        "-->Yes, lists in Python can hold elements of different data types. For example, [1, \"hello\", 3.5, True] is a valid list containing an integer, string, float, and boolean.\n",
        "\n",
        "10.Explain why strings are immutable in Python.\n",
        "-->Strings are immutable in Python to ensure data consistency and memory efficiency. Immutability allows Python to optimize storage by reusing strings and also avoids bugs caused by unintended changes to shared string values.\n",
        "\n",
        "11.What advantages do dictionaries offer over lists for certain tasks?\n",
        "-->Dictionaries provide faster access to data when you use a key, making them ideal for tasks like lookups or mapping relationships (e.g., storing student names with their marks). In contrast, lists require searching through each element to find a match.\n",
        "\n",
        "12.Describe a scenario where using a tuple would be preferable over a list.\n",
        "-->A tuple is better when you want to store fixed data that shouldn't change — like coordinates of a location (x, y) or dates (day, month, year). Their immutability ensures the data stays safe from modification.\n",
        "\n",
        "13.How do sets handle duplicate values in Python?\n",
        "-->Sets automatically remove duplicates. When you add duplicate values to a set, it keeps only one copy. This makes sets ideal for getting unique items from a list.\n",
        "\n",
        "14.How does the “in” keyword work differently for lists and dictionaries?\n",
        "-->For lists, \"in\" checks whether a value exists in the list. For dictionaries, \"in\" checks whether a key exists (not a value). Example: 'a' in {'a': 1} returns True, but '1' in {'a': 1} returns False.\n",
        "\n",
        "15.Can you modify the elements of a tuple? Explain why or why not?\n",
        "-->No, I cannot modify the elements of a tuple because tuples are immutable. This means their contents are fixed once created, helping maintain data reliability.\n",
        "\n",
        "16.What is a nested dictionary, and give an example of its use case?\n",
        "-->A nested dictionary is a dictionary where values are also dictionaries. It’s useful for storing structured data, like student records:\n",
        "students = {\n",
        "    \"Alice\": {\"age\": 20, \"grade\": \"A\"},\n",
        "    \"Bob\": {\"age\": 21, \"grade\": \"B\"}\n",
        "}\n",
        "\n",
        "17.Describe the time complexity of accessing elements in a dictionary.\n",
        "-->Accessing an element in a dictionary using a key is typically O(1), which means it's very fast and doesn’t depend on the size of the dictionary.\n",
        "\n",
        "18. In what situations are lists preferred over dictionaries?\n",
        "-->Lists are preferred when you need to store an ordered collection of items and don’t need key-based access — like maintaining a sequence, iterating in order, or handling simple datasets.\n",
        "\n",
        "19.Why are dictionaries considered unordered, and how does that affect data retrieva?\n",
        "-->In older versions of Python (<3.7), dictionaries were unordered, meaning the order of key-value pairs wasn't guaranteed. From Python 3.7+, dictionaries preserve insertion order, but they are still accessed by key, not by position like lists.\n",
        "\n",
        "20. Explain the difference between a list and a dictionary in terms of data retrieval.\n",
        "-->A list retrieves data by position (index), like my_list[2], while a dictionary retrieves data by key, like my_dict[\"name\"]. This makes dictionaries better for lookups and structured data, and lists better for ordered collections."
      ],
      "metadata": {
        "id": "dgj03awt-MDY"
      }
    },
    {
      "cell_type": "markdown",
      "source": [],
      "metadata": {
        "id": "OGRsQpHYC_GQ"
      }
    }
  ]
}